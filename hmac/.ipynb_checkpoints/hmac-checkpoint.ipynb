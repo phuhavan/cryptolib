{
 "cells": [
  {
   "cell_type": "markdown",
   "id": "7c08e2c8",
   "metadata": {},
   "source": [
    "In cryptography, an HMAC (sometimes expanded as either keyed-hash message authentication code or hash-based message authentication code) is a specific type of message authentication code (MAC) involving a cryptographic hash function and a secret cryptographic key. As with any MAC, it may be used to simultaneously verify both the data integrity and authenticity of a message.\n",
    "\n",
    "HMAC can provide authentication using a shared secret instead of using digital signatures with asymmetric cryptography. It trades off the need for a complex public key infrastructure by delegating the key exchange to the communicating parties, who are responsible for establishing and using a trusted channel to agree on the key prior to communication. \n",
    "\n",
    "Any cryptographic hash function, such as SHA-2 or SHA-3, may be used in the calculation of an HMAC; the resulting MAC algorithm is termed HMAC-X, where X is the hash function used (e.g. HMAC-SHA256 or HMAC-SHA3-512). The cryptographic strength of the HMAC depends upon the cryptographic strength of the underlying hash function, the size of its hash output, and the size and quality of the key.[1]\n",
    "\n",
    "HMAC uses two passes of hash computation. Before either pass, the secret key is used to derive two keys – inner and outer. Next, the first pass of the hash algorithm produces an internal hash derived from the message and the inner key. The second pass produces the final HMAC code derived from the inner hash result and the outer key. Thus the algorithm provides better immunity against length extension attacks.\n",
    "\n",
    "An iterative hash function (one that uses the Merkle–Damgård construction) breaks up a message into blocks of a fixed size and iterates over them with a compression function. For example, SHA-256 operates on 512-bit blocks. The size of the output of HMAC is the same as that of the underlying hash function (e.g., 256 and 512 bits in the case of SHA-256 and SHA3-512, respectively), although it can be truncated if desired.\n",
    "\n",
    "HMAC does not encrypt the message. Instead, the message (encrypted or not) must be sent alongside the HMAC hash. Parties with the secret key will hash the message again themselves, and if it is authentic, the received and computed hashes will match.\n",
    "\n",
    "The definition and analysis of the HMAC construction was first published in 1996 in a paper by Mihir Bellare, Ran Canetti, and Hugo Krawczyk,[1][2] and they also wrote RFC 2104 in 1997.[3] The 1996 paper also defined a nested variant called NMAC (Nested MAC). FIPS PUB 198 generalizes and standardizes the use of HMACs.[4] HMAC is used within the IPsec,[2] SSH and TLS protocols and for JSON Web Tokens. \n",
    "\n",
    "[1] Bellare, Mihir; Canetti, Ran; Krawczyk, Hugo (1996). \"Keying Hash Functions for Message Authentication\": 1–15. CiteSeerX10.1.1.134.8430.\n",
    "\n",
    "[2] Bellare, Mihir; Canetti, Ran; Krawczyk, Hugo (Spring 1996). \"Message Authentication using Hash Functions— The HMAC Construction\" (PDF). CryptoBytes. 2 (1).\n",
    "\n",
    "[3] \"Definition of HMAC\". HMAC: Keyed-Hashing for Message Authentication. sec.2. doi:10.17487/RFC2104. RFC 2104.\n",
    "\n",
    "[4] \"FIPS 198-1: The Keyed-Hash Message Authentication Code (HMAC)\". Federal Information Processing Standards. 16 July 2008.\n",
    "\n",
    "https://en.wikipedia.org/wiki/HMAC"
   ]
  },
  {
   "cell_type": "code",
   "execution_count": 1,
   "id": "b2995f6e",
   "metadata": {},
   "outputs": [],
   "source": [
    "import hmac\n",
    "import hashlib\n",
    "\n",
    "def hmac_sha256(key, message):\n",
    "    return hmac.new(key.encode(), message.encode(), hashlib.sha256).hexdigest()\n",
    "\n",
    "key = '012184938291010293948abc'\n",
    "msg = 'hello'\n",
    "\n",
    "mac = hmac_sha256(key, msg)"
   ]
  },
  {
   "cell_type": "code",
   "execution_count": 2,
   "id": "944eaeb3",
   "metadata": {},
   "outputs": [
    {
     "data": {
      "text/plain": [
       "'6b35d3de4a8e7d4158aa0a59af55dfb82d69080973e7fb0c33e81b054c09310e'"
      ]
     },
     "execution_count": 2,
     "metadata": {},
     "output_type": "execute_result"
    }
   ],
   "source": [
    "mac"
   ]
  },
  {
   "cell_type": "code",
   "execution_count": null,
   "id": "0397a776",
   "metadata": {},
   "outputs": [],
   "source": []
  }
 ],
 "metadata": {
  "kernelspec": {
   "display_name": "Python 3 (ipykernel)",
   "language": "python",
   "name": "python3"
  },
  "language_info": {
   "codemirror_mode": {
    "name": "ipython",
    "version": 3
   },
   "file_extension": ".py",
   "mimetype": "text/x-python",
   "name": "python",
   "nbconvert_exporter": "python",
   "pygments_lexer": "ipython3",
   "version": "3.9.12"
  }
 },
 "nbformat": 4,
 "nbformat_minor": 5
}
